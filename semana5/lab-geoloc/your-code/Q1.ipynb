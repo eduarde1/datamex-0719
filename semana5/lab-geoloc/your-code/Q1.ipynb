{
 "cells": [
  {
   "cell_type": "markdown",
   "metadata": {},
   "source": [
    "# Q1\n",
    "\n",
    "El primer paso es seleccionar lo datos desde MongoDB, pasarlos a un dataframe, limpiarlos y guardar las seleccion de datos en un archivo json para volver a llevarlos a MongoDB."
   ]
  },
  {
   "cell_type": "code",
   "execution_count": 4,
   "metadata": {},
   "outputs": [],
   "source": [
    "import pymongo\n",
    "from pymongo import MongoClient\n",
    "client = MongoClient()\n",
    "db = client.companies"
   ]
  },
  {
   "cell_type": "code",
   "execution_count": null,
   "metadata": {},
   "outputs": [],
   "source": [
    "flit = list(db.companies.find({'$and':[{'category_code':'web'},\n",
    "                                      {'category_code':'games_video'},\n",
    "                                      {'category_code':'software'}\n",
    "                                      {'category_code':'mobile'},\n",
    "                                      {'category_code':'music'},\n",
    "                                      {'category_code':'video'},\n",
    "                                      {'category_code':'network_hosting'},\n",
    "                                      {'offices':{'$not':{'size'=0}}}]}\n",
    "                             {'_id'=0, 'name'=1, }))"
   ]
  }
 ],
 "metadata": {
  "kernelspec": {
   "display_name": "Python 3",
   "language": "python",
   "name": "python3"
  },
  "language_info": {
   "codemirror_mode": {
    "name": "ipython",
    "version": 3
   },
   "file_extension": ".py",
   "mimetype": "text/x-python",
   "name": "python",
   "nbconvert_exporter": "python",
   "pygments_lexer": "ipython3",
   "version": "3.7.3"
  }
 },
 "nbformat": 4,
 "nbformat_minor": 2
}
